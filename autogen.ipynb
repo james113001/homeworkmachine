{
 "cells": [
  {
   "cell_type": "code",
   "execution_count": null,
   "metadata": {},
   "outputs": [],
   "source": [
    "# Dowload and install Ollama\n",
    "!curl -fsSL https://ollama.com/install.sh | sh"
   ]
  },
  {
   "cell_type": "markdown",
   "metadata": {},
   "source": [
    "## Start subprocess running ollama\n",
    "If you are on a local machine you can simply run ```ollama serve```. This version is for shared notebooks as we wont have have root user permission to run directly."
   ]
  },
  {
   "cell_type": "code",
   "execution_count": 9,
   "metadata": {},
   "outputs": [
    {
     "data": {
      "text/plain": [
       "<Popen: returncode: None args: ['ollama', 'serve']>"
      ]
     },
     "execution_count": 9,
     "metadata": {},
     "output_type": "execute_result"
    },
    {
     "name": "stderr",
     "output_type": "stream",
     "text": [
      "Error: listen tcp 127.0.0.1:11434: bind: address already in use\n"
     ]
    }
   ],
   "source": [
    "import subprocess\n",
    "subprocess.Popen([\"ollama\",])"
   ]
  },
  {
   "cell_type": "markdown",
   "metadata": {},
   "source": [
    "## Download Gemma\n",
    "In this test we are using `gemma:2b`. Later we will want to replace this for our custom model but this is fine for testing."
   ]
  },
  {
   "cell_type": "code",
   "execution_count": null,
   "metadata": {},
   "outputs": [],
   "source": [
    "!ollama pull gemma:2b"
   ]
  },
  {
   "cell_type": "code",
   "execution_count": null,
   "metadata": {},
   "outputs": [],
   "source": [
    "!pip install --upgrade --quiet openai pyautogen"
   ]
  },
  {
   "cell_type": "code",
   "execution_count": 13,
   "metadata": {},
   "outputs": [],
   "source": [
    "import os\n",
    "os.environ['OAI_CONFIG_LIST'] = '[{\"model\" : \"gemma:2b\", \"api_key\": \"EMPTY\", \"max_tokens\":1000}]'"
   ]
  },
  {
   "cell_type": "code",
   "execution_count": 18,
   "metadata": {},
   "outputs": [],
   "source": [
    "import autogen\n",
    "\n",
    "llm_config={\n",
    "    \"timeout\": 600,\n",
    "    \"cache_seed\": 68,  # change the seed for different trials\n",
    "    \"config_list\": [{\"model\" : \"gemma:2b\", \n",
    "                     \"api_key\": \"EMPTY\", \n",
    "                     \"max_tokens\":1000,\n",
    "                     \"base_url\":f\"http://localhost:11434/v1\"}],\n",
    "    \"temperature\": 0.5,\n",
    "}"
   ]
  },
  {
   "cell_type": "markdown",
   "metadata": {},
   "source": [
    "## Define out agents\n",
    "Here is where we will instantiate our AI agents. Right now we have the following agents outlined:\n",
    "\n",
    "### User Agent\n",
    "When the pipeline agent is complete this agent will be replaced with a recursive call for math problems. However in the meantime we will use it load individual questions one by one.\n",
    "\n",
    "### Problem Manager\n",
    "This agent will act as oversight, checking that the problem is first correctly broken down into a procedure, suggest edits or rounds of revision, to then be passed to the solver.\n",
    "\n",
    "### Procedure Generator\n",
    "This agent will be in charge of turning the question into a set of steps that will be used to procedurally solve the given math question. It will first need to read in the question, turn it into a summary goal, and then a set of steps for solving the problem.\n",
    "\n",
    "### Mathmatician\n",
    "This agent likely powered by deepseek will take a given procedure and apply it in an attempt to solve a math problem.\n",
    "\n"
   ]
  },
  {
   "cell_type": "code",
   "execution_count": 22,
   "metadata": {},
   "outputs": [],
   "source": [
    "user_proxy = autogen.UserProxyAgent(\n",
    "    name=\"User_proxy\",\n",
    "    system_message=\"A human admin.\",\n",
    "    code_execution_config=False,\n",
    "    human_input_mode=\"TERMINATE\",\n",
    "    is_termination_msg=lambda x: x.get(\"content\", \"\") and x.get(\"content\", \"\").rstrip().endswith(\"TERMINATE\"),\n",
    ")\n",
    "procedure = autogen.AssistantAgent(\n",
    "    name=\"Procedure\",\n",
    "    system_message=\"\"\"You an advanced AI acting as the an mathematics procedural assistant;\n",
    "    you will take a given math problem written in LaTex format, create a high fidelity summary of what the problem is asking you to achieve;\n",
    "    then break the task down into a list of individual steps that must be completed to solve the task.\n",
    "                    \"\"\",\n",
    "    llm_config=llm_config,\n",
    "    description=\"\"\"This is a math problem procedure assistant who is capable of taking a problem in LaTex format; summarizing the question; and creating a procedure for solving it.\n",
    "                   The procedure assistant is open to any comments and recommendations for improving the summary and procedure.\n",
    "                   Ask the procedure assistant to iterate every time when there is a new change recommendation from editor.\n",
    "                \"\"\"\n",
    ")\n",
    "editor = autogen.AssistantAgent(\n",
    "    name=\"Editor\",\n",
    "    system_message=\"\"\"You review the math questions and procedure proposals and give change recommendations to make the procedure and summary more aligned with the original question being asked,\n",
    "    for example, revising to make sure the correct solution format is being protrayed.\n",
    "                      You never write or revise procedures by yourself.\n",
    "                       \"\"\",\n",
    "    llm_config=llm_config,\n",
    "    description=\"\"\"This is an editor who reviews the procedure drafts of mathematics procedural assistants and provides change ideas.\n",
    "                    The editor should be called every time the mathematics procedural assistant provides a version of a math procedure post.\n",
    "                \"\"\"\n",
    ")\n",
    "\n",
    "solver = autogen.AssistantAgent(\n",
    "    name=\"Solver\",\n",
    "    system_message=\"\"\" You are an advanced mathematician;\n",
    "    You will take a given math problem summary and a procedure for solving it;\n",
    "    and you will follow the procedure to solve the math problem correctly.\n",
    "                       \"\"\",\n",
    "    llm_config=llm_config,\n",
    "    description=\"\"\"This is an elite math problem solver who reviews math procedures of procedure writing assistants and provides the solution to the problem.\n",
    "                    The solver should be called every time the procedure assistant provides a version of procedure summary and steps.\n",
    "                \"\"\"\n",
    ")\n",
    "groupchat = autogen.GroupChat(agents=[user_proxy, procedure, editor, solver], messages=[], max_round=6)\n",
    "manager = autogen.GroupChatManager(groupchat=groupchat, llm_config=llm_config)"
   ]
  },
  {
   "cell_type": "code",
   "execution_count": 47,
   "metadata": {},
   "outputs": [
    {
     "data": {
      "text/html": [
       "<div>\n",
       "<style scoped>\n",
       "    .dataframe tbody tr th:only-of-type {\n",
       "        vertical-align: middle;\n",
       "    }\n",
       "\n",
       "    .dataframe tbody tr th {\n",
       "        vertical-align: top;\n",
       "    }\n",
       "\n",
       "    .dataframe thead th {\n",
       "        text-align: right;\n",
       "    }\n",
       "</style>\n",
       "<table border=\"1\" class=\"dataframe\">\n",
       "  <thead>\n",
       "    <tr style=\"text-align: right;\">\n",
       "      <th></th>\n",
       "      <th>Question</th>\n",
       "      <th>Level</th>\n",
       "      <th>Type</th>\n",
       "      <th>Solution</th>\n",
       "      <th>Answer</th>\n",
       "    </tr>\n",
       "  </thead>\n",
       "  <tbody>\n",
       "    <tr>\n",
       "      <th>0</th>\n",
       "      <td>My school's math club has 6 boys and 8 girls. ...</td>\n",
       "      <td>Level 2</td>\n",
       "      <td>counting_and_probability</td>\n",
       "      <td>With no restrictions, we are merely picking 6 ...</td>\n",
       "      <td>3003</td>\n",
       "    </tr>\n",
       "    <tr>\n",
       "      <th>1</th>\n",
       "      <td>How many 4-letter words with at least one cons...</td>\n",
       "      <td>Level 3</td>\n",
       "      <td>counting_and_probability</td>\n",
       "      <td>First we count the number of all 4-letter word...</td>\n",
       "      <td>609</td>\n",
       "    </tr>\n",
       "  </tbody>\n",
       "</table>\n",
       "</div>"
      ],
      "text/plain": [
       "                                            Question    Level  \\\n",
       "0  My school's math club has 6 boys and 8 girls. ...  Level 2   \n",
       "1  How many 4-letter words with at least one cons...  Level 3   \n",
       "\n",
       "                       Type  \\\n",
       "0  counting_and_probability   \n",
       "1  counting_and_probability   \n",
       "\n",
       "                                            Solution Answer  \n",
       "0  With no restrictions, we are merely picking 6 ...   3003  \n",
       "1  First we count the number of all 4-letter word...    609  "
      ]
     },
     "execution_count": 47,
     "metadata": {},
     "output_type": "execute_result"
    }
   ],
   "source": [
    "import pandas as pd\n",
    "from tqdm.notebook import tqdm\n",
    "tqdm.pandas() # progress bar for pandas\n",
    "\n",
    "df1 = pd.read_csv(\"traincompiled.csv\")\n",
    "df2 = pd.read_csv(\"testcompiled.csv\")\n",
    "\n",
    "\n",
    "df = pd.concat([df1, df2], axis=0)\n",
    "df.head(2)"
   ]
  },
  {
   "cell_type": "code",
   "execution_count": 48,
   "metadata": {},
   "outputs": [
    {
     "data": {
      "application/vnd.jupyter.widget-view+json": {
       "model_id": "a1d08522fa3c4d029131eb21058afc28",
       "version_major": 2,
       "version_minor": 0
      },
      "text/plain": [
       "  0%|          | 0/7929 [00:00<?, ?it/s]"
      ]
     },
     "metadata": {},
     "output_type": "display_data"
    }
   ],
   "source": [
    "template = \"\"\"\\n\\nProblem:\\n{problem}\\n\\nSolution:\\n{solution}\"\"\"\n",
    "\n",
    "df[\"prompt\"] = df.progress_apply(lambda row: template.format(problem=row.Question,\n",
    "                                                             solution=f\"{row.Solution}\\n\\nAnswer:\\n{row.Answer}\"),\n",
    "                                                             axis=1)\n",
    "data = df.prompt.tolist()"
   ]
  },
  {
   "cell_type": "code",
   "execution_count": 53,
   "metadata": {},
   "outputs": [],
   "source": [
    "q1 = df.head(1).Question.values [0]\n",
    "\n",
    "# from IPython.display import display, Markdown\n",
    "\n",
    "# def colorize_text(text):\n",
    "#     for word, color in zip([\"Role\", \"Instruction\", \"Problem\", \"Solution\", \"Answer\"],\n",
    "#                            [\"blue\", \"yellow\", \"red\", \"cyan\", \"green\"]):\n",
    "#         text = text.replace(f\"{word}:\", f\"\\n\\n**<font color='{color}'>{word}:</font>**\")\n",
    "#     return text\n",
    "\n",
    "# # Take a random sample\n",
    "# sample = data[12]\n",
    "\n",
    "# display(data)\n",
    "\n",
    "# Give colors to Instruction, Response and Category\n",
    "# sample = colorize_text(sample)\n",
    "\n",
    "# Show sample in markdown\n",
    "# display(Markdown(sample))"
   ]
  },
  {
   "cell_type": "code",
   "execution_count": 54,
   "metadata": {},
   "outputs": [
    {
     "name": "stdout",
     "output_type": "stream",
     "text": [
      "\u001b[33mUser_proxy\u001b[0m (to chat_manager):\n",
      "\n",
      "My school's math club has 6 boys and 8 girls.  I need to select a team to send to the state math competition.  We want 6 people on the team.  In how many ways can I select the team without restrictions?\n",
      "\n",
      "--------------------------------------------------------------------------------\n",
      "\u001b[33mProcedure\u001b[0m (to chat_manager):\n",
      "\n",
      "**Problem:**\n",
      "\n",
      "How many ways can I select a team of 6 from a group of 14 students (6 boys and 8 girls)?\n",
      "\n",
      "**Steps:**\n",
      "\n",
      "1. Choose 6 boys from the 14 students. \n",
      "2. Choose 8 girls from the 14 students. \n",
      "3. Combine the 6 boys and 8 girls to form a team of 14. \n",
      "\n",
      "**Total ways to choose 6 boys and 8 girls from 14 students = 14C6 x 14C8 = 3003 ways.**\n",
      "\n",
      "--------------------------------------------------------------------------------\n",
      "\u001b[33mSolver\u001b[0m (to chat_manager):\n",
      "\n",
      "The answer is 3003.\n",
      "\n",
      "--------------------------------------------------------------------------------\n",
      "\u001b[33mSolver\u001b[0m (to chat_manager):\n",
      "\n",
      "\n",
      "\n",
      "--------------------------------------------------------------------------------\n",
      "\u001b[33mEditor\u001b[0m (to chat_manager):\n",
      "\n",
      "The original problem asks for the number of ways to select a team of 6 from a group of 14 students (6 boys and 8 girls). The correct answer is 3003.\n",
      "\n",
      "**Explanation:**\n",
      "\n",
      "The problem involves choosing 6 items from a set of 14 items, with 6 being boys and 8 being girls. The order of the items does not matter, so we use combinations to calculate the total number of ways.\n",
      "\n",
      "**Breakdown of the steps:**\n",
      "\n",
      "1. Choose 6 boys from the 14 students using the combination formula: 14C6 = 14! / (6! * 8!) = 355 different ways.\n",
      "2. Choose 8 girls from the 14 students using the combination formula: 14C8 = 14! / (8! * 6!) = 495 different ways.\n",
      "3. Combine the 6 boys and 8 girls to form a team of 14 using the multiplication principle: 355 x 495 = 166,550 different ways to select a team.\n",
      "\n",
      "Therefore, the total number of ways to select a team of 6 from a group of 14 students is 3003.\n",
      "\n",
      "--------------------------------------------------------------------------------\n",
      "\u001b[33mSolver\u001b[0m (to chat_manager):\n",
      "\n",
      "The correct answer is 3003.\n",
      "\n",
      "--------------------------------------------------------------------------------\n"
     ]
    },
    {
     "data": {
      "text/plain": [
       "ChatResult(chat_id=None, chat_history=[{'content': \"My school's math club has 6 boys and 8 girls.  I need to select a team to send to the state math competition.  We want 6 people on the team.  In how many ways can I select the team without restrictions?\", 'role': 'assistant'}, {'content': '**Problem:**\\n\\nHow many ways can I select a team of 6 from a group of 14 students (6 boys and 8 girls)?\\n\\n**Steps:**\\n\\n1. Choose 6 boys from the 14 students. \\n2. Choose 8 girls from the 14 students. \\n3. Combine the 6 boys and 8 girls to form a team of 14. \\n\\n**Total ways to choose 6 boys and 8 girls from 14 students = 14C6 x 14C8 = 3003 ways.**', 'name': 'Procedure', 'role': 'user'}, {'content': 'The answer is 3003.', 'name': 'Solver', 'role': 'user'}, {'content': '', 'name': 'Solver', 'role': 'user'}, {'content': 'The original problem asks for the number of ways to select a team of 6 from a group of 14 students (6 boys and 8 girls). The correct answer is 3003.\\n\\n**Explanation:**\\n\\nThe problem involves choosing 6 items from a set of 14 items, with 6 being boys and 8 being girls. The order of the items does not matter, so we use combinations to calculate the total number of ways.\\n\\n**Breakdown of the steps:**\\n\\n1. Choose 6 boys from the 14 students using the combination formula: 14C6 = 14! / (6! * 8!) = 355 different ways.\\n2. Choose 8 girls from the 14 students using the combination formula: 14C8 = 14! / (8! * 6!) = 495 different ways.\\n3. Combine the 6 boys and 8 girls to form a team of 14 using the multiplication principle: 355 x 495 = 166,550 different ways to select a team.\\n\\nTherefore, the total number of ways to select a team of 6 from a group of 14 students is 3003.', 'name': 'Editor', 'role': 'user'}, {'content': 'The correct answer is 3003.', 'name': 'Solver', 'role': 'user'}], summary='The correct answer is 3003.', cost={'usage_including_cached_inference': {'total_cost': 0}, 'usage_excluding_cached_inference': {'total_cost': 0}}, human_input=[])"
      ]
     },
     "execution_count": 54,
     "metadata": {},
     "output_type": "execute_result"
    }
   ],
   "source": [
    "user_proxy.initiate_chat(manager, message=q1)"
   ]
  }
 ],
 "metadata": {
  "kernelspec": {
   "display_name": "autogen",
   "language": "python",
   "name": "python3"
  },
  "language_info": {
   "name": "python",
   "version": "3.11.5"
  }
 },
 "nbformat": 4,
 "nbformat_minor": 2
}
