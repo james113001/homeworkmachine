import pandas as pd

# Read the .jsonl file into a DataFrame
df = pd.read_json('prm800k/prm800k/data/phase1_train.jsonl', lines=True)[['quesion','label']]

# Print the DataFrame
df['label'][1]









