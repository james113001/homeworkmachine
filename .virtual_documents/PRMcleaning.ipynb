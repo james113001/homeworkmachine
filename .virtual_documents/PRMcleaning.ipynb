import pandas as pd

# Read the .jsonl file into a DataFrame
df = pd.read_json('prm800k/prm800k/data/phase1_train.jsonl', lines=True)[['question','label']]
df2 = pd.read_json('prm800k/prm800k/data/phase2_train.jsonl', lines=True)[['question','label']]

# Print the DataFrame
dftotal = pd.concat([df, df2], axis=0)

dftotal.reset_index(drop=True, inplace=True)
dftotal


dftotal['label'].apply(lambda x: x['finish_reason']).value_counts()


dftotalfiltered = dftotal[dftotal['label'].apply(lambda x: x['finish_reason'] == 'solution')].reset_index(drop=True)

dftotalfiltered


def extract_chosen_text(label):
    """
    Extracts the text of the chosen completion for each step in the label.
    """
    chosen_texts = []
    for step in label['steps']:
        chosen_index = step['chosen_completion']
        if chosen_index is not None and chosen_index < len(step['completions']):
            chosen_text = step['completions'][chosen_index]['text']
            chosen_texts.append(chosen_text)
    return ' '.join(chosen_texts)

def extract_problem_and_answer(row):
    problem = row['problem']
    answer = row['ground_truth_answer']
    return pd.Series([problem, answer], index=['problem', 'answer'])

dftotalfiltered['steps'] = dftotalfiltered['label'].apply(extract_chosen_text)
# Apply the function to the DataFrame
dftotalfiltered[['problem', 'answer']] = dftotalfiltered['question'].apply(extract_problem_and_answer)
df=dftotalfiltered[['problem', 'steps', 'answer']]
df


df['steps'][1]


train_df = pd.read_csv('ALLtraincompiled.csv')[['Question','Type']]
test_df = pd.read_csv('ALLtestcompiled.csv')[['Question','Type']]
dftotal = pd.concat([train_df, test_df], axis=0)

dftotal.rename(columns={'Question': 'problem'}, inplace=True)
merged_df = pd.merge(df, dftotal, on='problem', how='outer')
merged_df=merged_df.dropna()
merged_df.to_csv('prmclean.csv',index = False)
merged_df


merged_df['steps'][0]


merged_df['steps'][1]
