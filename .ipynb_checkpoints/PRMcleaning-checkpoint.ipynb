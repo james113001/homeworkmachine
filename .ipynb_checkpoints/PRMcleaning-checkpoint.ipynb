{
 "cells": [
  {
   "cell_type": "code",
   "execution_count": 2,
   "id": "a7919b3b-2ed1-46b8-985a-a0148b465358",
   "metadata": {},
   "outputs": [
    {
     "data": {
      "text/html": [
       "<div>\n",
       "<style scoped>\n",
       "    .dataframe tbody tr th:only-of-type {\n",
       "        vertical-align: middle;\n",
       "    }\n",
       "\n",
       "    .dataframe tbody tr th {\n",
       "        vertical-align: top;\n",
       "    }\n",
       "\n",
       "    .dataframe thead th {\n",
       "        text-align: right;\n",
       "    }\n",
       "</style>\n",
       "<table border=\"1\" class=\"dataframe\">\n",
       "  <thead>\n",
       "    <tr style=\"text-align: right;\">\n",
       "      <th></th>\n",
       "      <th>question</th>\n",
       "      <th>label</th>\n",
       "    </tr>\n",
       "  </thead>\n",
       "  <tbody>\n",
       "    <tr>\n",
       "      <th>0</th>\n",
       "      <td>{'problem': 'How many seconds are in 7.8 minut...</td>\n",
       "      <td>{'steps': [{'completions': [{'text': '7.8 minu...</td>\n",
       "    </tr>\n",
       "    <tr>\n",
       "      <th>1</th>\n",
       "      <td>{'problem': 'How many positive two-digit integ...</td>\n",
       "      <td>{'steps': [{'completions': [{'text': \"Let's ca...</td>\n",
       "    </tr>\n",
       "    <tr>\n",
       "      <th>2</th>\n",
       "      <td>{'problem': 'The fifth and eighth terms of a g...</td>\n",
       "      <td>{'steps': [{'completions': [{'text': 'So we ha...</td>\n",
       "    </tr>\n",
       "    <tr>\n",
       "      <th>3</th>\n",
       "      <td>{'problem': 'Find the value of $x$ that satisf...</td>\n",
       "      <td>{'steps': [{'completions': [{'text': \"Let's fi...</td>\n",
       "    </tr>\n",
       "    <tr>\n",
       "      <th>4</th>\n",
       "      <td>{'problem': 'What is the least three-digit who...</td>\n",
       "      <td>{'steps': [{'completions': [{'text': 'So we wa...</td>\n",
       "    </tr>\n",
       "    <tr>\n",
       "      <th>...</th>\n",
       "      <td>...</td>\n",
       "      <td>...</td>\n",
       "    </tr>\n",
       "    <tr>\n",
       "      <th>98726</th>\n",
       "      <td>{'problem': 'Find the largest possible value o...</td>\n",
       "      <td>{'steps': [{'completions': [{'text': 'This is ...</td>\n",
       "    </tr>\n",
       "    <tr>\n",
       "      <th>98727</th>\n",
       "      <td>{'problem': 'Alicia has $n$ candies, where $n$...</td>\n",
       "      <td>{'steps': [{'completions': [{'text': 'I need t...</td>\n",
       "    </tr>\n",
       "    <tr>\n",
       "      <th>98728</th>\n",
       "      <td>{'problem': 'Find the remainder when $$33818^2...</td>\n",
       "      <td>{'steps': [{'completions': [{'text': 'This pro...</td>\n",
       "    </tr>\n",
       "    <tr>\n",
       "      <th>98729</th>\n",
       "      <td>{'problem': 'On the Cartesian plane in which e...</td>\n",
       "      <td>{'steps': [{'completions': [{'text': 'I need t...</td>\n",
       "    </tr>\n",
       "    <tr>\n",
       "      <th>98730</th>\n",
       "      <td>{'problem': 'Suppose we are given seven points...</td>\n",
       "      <td>{'steps': [{'completions': [{'text': 'I notice...</td>\n",
       "    </tr>\n",
       "  </tbody>\n",
       "</table>\n",
       "<p>98731 rows × 2 columns</p>\n",
       "</div>"
      ],
      "text/plain": [
       "                                                question  \\\n",
       "0      {'problem': 'How many seconds are in 7.8 minut...   \n",
       "1      {'problem': 'How many positive two-digit integ...   \n",
       "2      {'problem': 'The fifth and eighth terms of a g...   \n",
       "3      {'problem': 'Find the value of $x$ that satisf...   \n",
       "4      {'problem': 'What is the least three-digit who...   \n",
       "...                                                  ...   \n",
       "98726  {'problem': 'Find the largest possible value o...   \n",
       "98727  {'problem': 'Alicia has $n$ candies, where $n$...   \n",
       "98728  {'problem': 'Find the remainder when $$33818^2...   \n",
       "98729  {'problem': 'On the Cartesian plane in which e...   \n",
       "98730  {'problem': 'Suppose we are given seven points...   \n",
       "\n",
       "                                                   label  \n",
       "0      {'steps': [{'completions': [{'text': '7.8 minu...  \n",
       "1      {'steps': [{'completions': [{'text': \"Let's ca...  \n",
       "2      {'steps': [{'completions': [{'text': 'So we ha...  \n",
       "3      {'steps': [{'completions': [{'text': \"Let's fi...  \n",
       "4      {'steps': [{'completions': [{'text': 'So we wa...  \n",
       "...                                                  ...  \n",
       "98726  {'steps': [{'completions': [{'text': 'This is ...  \n",
       "98727  {'steps': [{'completions': [{'text': 'I need t...  \n",
       "98728  {'steps': [{'completions': [{'text': 'This pro...  \n",
       "98729  {'steps': [{'completions': [{'text': 'I need t...  \n",
       "98730  {'steps': [{'completions': [{'text': 'I notice...  \n",
       "\n",
       "[98731 rows x 2 columns]"
      ]
     },
     "execution_count": 2,
     "metadata": {},
     "output_type": "execute_result"
    }
   ],
   "source": [
    "import pandas as pd\n",
    "\n",
    "# Read the .jsonl file into a DataFrame\n",
    "df = pd.read_json('prm800k/prm800k/data/phase1_train.jsonl', lines=True)[['question','label']]\n",
    "df2 = pd.read_json('prm800k/prm800k/data/phase2_train.jsonl', lines=True)[['question','label']]\n",
    "\n",
    "# Print the DataFrame\n",
    "dftotal = pd.concat([df, df2], axis=0)\n",
    "\n",
    "dftotal.reset_index(drop=True, inplace=True)\n",
    "dftotal"
   ]
  },
  {
   "cell_type": "code",
   "execution_count": 3,
   "id": "17f6a925-10f9-4309-a035-71d902c33ffd",
   "metadata": {},
   "outputs": [
    {
     "data": {
      "text/plain": [
       "label\n",
       "found_error    82003\n",
       "solution       12473\n",
       "give_up         3980\n",
       "bad_problem      275\n",
       "Name: count, dtype: int64"
      ]
     },
     "execution_count": 3,
     "metadata": {},
     "output_type": "execute_result"
    }
   ],
   "source": [
    "dftotal['label'].apply(lambda x: x['finish_reason']).value_counts()"
   ]
  },
  {
   "cell_type": "code",
   "execution_count": null,
   "id": "62fe7bb1-2cf6-42f0-ba89-8f8333c7c838",
   "metadata": {},
   "outputs": [],
   "source": [
    "dftotalfiltered = dftotal[dftotal['label'].apply(lambda x: x['finish_reason'] == 'solution')].reset_index(drop=True)\n",
    "\n",
    "dftotalfiltered"
   ]
  },
  {
   "cell_type": "code",
   "execution_count": 25,
   "id": "bc9e1d3d-0a0d-4135-8911-3271836bf884",
   "metadata": {},
   "outputs": [
    {
     "data": {
      "text/html": [
       "<div>\n",
       "<style scoped>\n",
       "    .dataframe tbody tr th:only-of-type {\n",
       "        vertical-align: middle;\n",
       "    }\n",
       "\n",
       "    .dataframe tbody tr th {\n",
       "        vertical-align: top;\n",
       "    }\n",
       "\n",
       "    .dataframe thead th {\n",
       "        text-align: right;\n",
       "    }\n",
       "</style>\n",
       "<table border=\"1\" class=\"dataframe\">\n",
       "  <thead>\n",
       "    <tr style=\"text-align: right;\">\n",
       "      <th></th>\n",
       "      <th>problem</th>\n",
       "      <th>steps</th>\n",
       "      <th>answer</th>\n",
       "    </tr>\n",
       "  </thead>\n",
       "  <tbody>\n",
       "    <tr>\n",
       "      <th>0</th>\n",
       "      <td>How many seconds are in 7.8 minutes?</td>\n",
       "      <td>7.8 minutes is the same as 7 minutes and 0.8 m...</td>\n",
       "      <td>468</td>\n",
       "    </tr>\n",
       "    <tr>\n",
       "      <th>1</th>\n",
       "      <td>How many positive two-digit integers leave a r...</td>\n",
       "      <td>So if a number leaves a remainder of 2 when di...</td>\n",
       "      <td>12</td>\n",
       "    </tr>\n",
       "    <tr>\n",
       "      <th>2</th>\n",
       "      <td>The fifth and eighth terms of a geometric sequ...</td>\n",
       "      <td>The nth term of a geometric sequence is given ...</td>\n",
       "      <td>315</td>\n",
       "    </tr>\n",
       "    <tr>\n",
       "      <th>3</th>\n",
       "      <td>Find the value of $x$ that satisfies $\\frac{\\s...</td>\n",
       "      <td>Let's first get rid of the square roots in the...</td>\n",
       "      <td>\\frac{20}{3}</td>\n",
       "    </tr>\n",
       "    <tr>\n",
       "      <th>4</th>\n",
       "      <td>One day Max says to Liz, \"Out of the 25 people...</td>\n",
       "      <td>I think we should start by letting the number ...</td>\n",
       "      <td>16</td>\n",
       "    </tr>\n",
       "    <tr>\n",
       "      <th>...</th>\n",
       "      <td>...</td>\n",
       "      <td>...</td>\n",
       "      <td>...</td>\n",
       "    </tr>\n",
       "    <tr>\n",
       "      <th>12468</th>\n",
       "      <td>What is the smallest integer greater than 200 ...</td>\n",
       "      <td>I want to find an integer n that is greater th...</td>\n",
       "      <td>234</td>\n",
       "    </tr>\n",
       "    <tr>\n",
       "      <th>12469</th>\n",
       "      <td>How many numbers are in the list $$ 6,7,10,11,...</td>\n",
       "      <td>I notice that the numbers in the list increase...</td>\n",
       "      <td>47</td>\n",
       "    </tr>\n",
       "    <tr>\n",
       "      <th>12470</th>\n",
       "      <td>In isosceles triangle $\\triangle ABC$ we have ...</td>\n",
       "      <td>I notice that the problem involves an isoscele...</td>\n",
       "      <td>2\\sqrt{2}</td>\n",
       "    </tr>\n",
       "    <tr>\n",
       "      <th>12471</th>\n",
       "      <td>Alicia has $n$ candies, where $n$ is a positiv...</td>\n",
       "      <td>I need to find a three-digit number $n$ that s...</td>\n",
       "      <td>123</td>\n",
       "    </tr>\n",
       "    <tr>\n",
       "      <th>12472</th>\n",
       "      <td>On the Cartesian plane in which each unit is o...</td>\n",
       "      <td>I need to find the point on the rope that is f...</td>\n",
       "      <td>15</td>\n",
       "    </tr>\n",
       "  </tbody>\n",
       "</table>\n",
       "<p>12473 rows × 3 columns</p>\n",
       "</div>"
      ],
      "text/plain": [
       "                                                 problem  \\\n",
       "0                   How many seconds are in 7.8 minutes?   \n",
       "1      How many positive two-digit integers leave a r...   \n",
       "2      The fifth and eighth terms of a geometric sequ...   \n",
       "3      Find the value of $x$ that satisfies $\\frac{\\s...   \n",
       "4      One day Max says to Liz, \"Out of the 25 people...   \n",
       "...                                                  ...   \n",
       "12468  What is the smallest integer greater than 200 ...   \n",
       "12469  How many numbers are in the list $$ 6,7,10,11,...   \n",
       "12470  In isosceles triangle $\\triangle ABC$ we have ...   \n",
       "12471  Alicia has $n$ candies, where $n$ is a positiv...   \n",
       "12472  On the Cartesian plane in which each unit is o...   \n",
       "\n",
       "                                                   steps        answer  \n",
       "0      7.8 minutes is the same as 7 minutes and 0.8 m...           468  \n",
       "1      So if a number leaves a remainder of 2 when di...            12  \n",
       "2      The nth term of a geometric sequence is given ...           315  \n",
       "3      Let's first get rid of the square roots in the...  \\frac{20}{3}  \n",
       "4      I think we should start by letting the number ...            16  \n",
       "...                                                  ...           ...  \n",
       "12468  I want to find an integer n that is greater th...           234  \n",
       "12469  I notice that the numbers in the list increase...            47  \n",
       "12470  I notice that the problem involves an isoscele...     2\\sqrt{2}  \n",
       "12471  I need to find a three-digit number $n$ that s...           123  \n",
       "12472  I need to find the point on the rope that is f...            15  \n",
       "\n",
       "[12473 rows x 3 columns]"
      ]
     },
     "execution_count": 25,
     "metadata": {},
     "output_type": "execute_result"
    }
   ],
   "source": [
    "def extract_chosen_text(label):\n",
    "    \"\"\"\n",
    "    Extracts the text of the chosen completion for each step in the label.\n",
    "    \"\"\"\n",
    "    chosen_texts = []\n",
    "    for step in label['steps']:\n",
    "        chosen_index = step['chosen_completion']\n",
    "        if chosen_index is not None and chosen_index < len(step['completions']):\n",
    "            chosen_text = step['completions'][chosen_index]['text']\n",
    "            chosen_texts.append(chosen_text)\n",
    "    return ' '.join(chosen_texts)\n",
    "\n",
    "def extract_problem_and_answer(row):\n",
    "    problem = row['problem']\n",
    "    answer = row['ground_truth_answer']\n",
    "    return pd.Series([problem, answer], index=['problem', 'answer'])\n",
    "\n",
    "dftotalfiltered['steps'] = dftotalfiltered['label'].apply(extract_chosen_text)\n",
    "# Apply the function to the DataFrame\n",
    "dftotalfiltered[['problem', 'answer']] = dftotalfiltered['question'].apply(extract_problem_and_answer)\n",
    "df=dftotalfiltered[['problem', 'steps', 'answer']]\n",
    "df"
   ]
  },
  {
   "cell_type": "code",
   "execution_count": 10,
   "id": "ae5c3eba-c058-41d4-816e-c20bc524a02b",
   "metadata": {},
   "outputs": [
    {
     "data": {
      "text/plain": [
       "\"So if a number leaves a remainder of 2 when divided by 8, it's of the form 8n+2. So we want to know the number of positive two-digit integers of the form 8n+2. I think we should just plug in numbers and see what happens. Ok let's start with n=1. 8*1+2=10 which is a two-digit integer. Let's try n=2. 8*2+2=18 which is also a two-digit integer. That would be n=13. Because 8*13+2=106. So the number of positive two-digit integers of the form 8n+2 is 12.\\n\\n# Answer\\n\\n12\""
      ]
     },
     "execution_count": 10,
     "metadata": {},
     "output_type": "execute_result"
    }
   ],
   "source": [
    "df['steps'][1]"
   ]
  },
  {
   "cell_type": "code",
   "execution_count": 4,
   "id": "11428b54-bdfb-4e28-b015-04e45164ab47",
   "metadata": {},
   "outputs": [
    {
     "ename": "KeyError",
     "evalue": "'problem'",
     "output_type": "error",
     "traceback": [
      "\u001b[0;31m---------------------------------------------------------------------------\u001b[0m",
      "\u001b[0;31mKeyError\u001b[0m                                  Traceback (most recent call last)",
      "\u001b[0;32m/var/folders/bs/zggx74yj4d721rnp57yp6h5r0000gn/T/ipykernel_63992/247176905.py\u001b[0m in \u001b[0;36m?\u001b[0;34m()\u001b[0m\n\u001b[1;32m      2\u001b[0m \u001b[0mtest_df\u001b[0m \u001b[0;34m=\u001b[0m \u001b[0mpd\u001b[0m\u001b[0;34m.\u001b[0m\u001b[0mread_csv\u001b[0m\u001b[0;34m(\u001b[0m\u001b[0;34m'ALLtestcompiled.csv'\u001b[0m\u001b[0;34m)\u001b[0m\u001b[0;34m[\u001b[0m\u001b[0;34m[\u001b[0m\u001b[0;34m'Question'\u001b[0m\u001b[0;34m,\u001b[0m\u001b[0;34m'Type'\u001b[0m\u001b[0;34m]\u001b[0m\u001b[0;34m]\u001b[0m\u001b[0;34m\u001b[0m\u001b[0;34m\u001b[0m\u001b[0m\n\u001b[1;32m      3\u001b[0m \u001b[0mdftotal\u001b[0m \u001b[0;34m=\u001b[0m \u001b[0mpd\u001b[0m\u001b[0;34m.\u001b[0m\u001b[0mconcat\u001b[0m\u001b[0;34m(\u001b[0m\u001b[0;34m[\u001b[0m\u001b[0mtrain_df\u001b[0m\u001b[0;34m,\u001b[0m \u001b[0mtest_df\u001b[0m\u001b[0;34m]\u001b[0m\u001b[0;34m,\u001b[0m \u001b[0maxis\u001b[0m\u001b[0;34m=\u001b[0m\u001b[0;36m0\u001b[0m\u001b[0;34m)\u001b[0m\u001b[0;34m\u001b[0m\u001b[0;34m\u001b[0m\u001b[0m\n\u001b[1;32m      4\u001b[0m \u001b[0;34m\u001b[0m\u001b[0m\n\u001b[1;32m      5\u001b[0m \u001b[0mdftotal\u001b[0m\u001b[0;34m.\u001b[0m\u001b[0mrename\u001b[0m\u001b[0;34m(\u001b[0m\u001b[0mcolumns\u001b[0m\u001b[0;34m=\u001b[0m\u001b[0;34m{\u001b[0m\u001b[0;34m'Question'\u001b[0m\u001b[0;34m:\u001b[0m \u001b[0;34m'problem'\u001b[0m\u001b[0;34m}\u001b[0m\u001b[0;34m,\u001b[0m \u001b[0minplace\u001b[0m\u001b[0;34m=\u001b[0m\u001b[0;32mTrue\u001b[0m\u001b[0;34m)\u001b[0m\u001b[0;34m\u001b[0m\u001b[0;34m\u001b[0m\u001b[0m\n\u001b[0;32m----> 6\u001b[0;31m \u001b[0mmerged_df\u001b[0m \u001b[0;34m=\u001b[0m \u001b[0mpd\u001b[0m\u001b[0;34m.\u001b[0m\u001b[0mmerge\u001b[0m\u001b[0;34m(\u001b[0m\u001b[0mdf\u001b[0m\u001b[0;34m,\u001b[0m \u001b[0mdftotal\u001b[0m\u001b[0;34m,\u001b[0m \u001b[0mon\u001b[0m\u001b[0;34m=\u001b[0m\u001b[0;34m'problem'\u001b[0m\u001b[0;34m,\u001b[0m \u001b[0mhow\u001b[0m\u001b[0;34m=\u001b[0m\u001b[0;34m'outer'\u001b[0m\u001b[0;34m)\u001b[0m\u001b[0;34m\u001b[0m\u001b[0;34m\u001b[0m\u001b[0m\n\u001b[0m\u001b[1;32m      7\u001b[0m \u001b[0mmerged_df\u001b[0m\u001b[0;34m=\u001b[0m\u001b[0mmerged_df\u001b[0m\u001b[0;34m.\u001b[0m\u001b[0mdropna\u001b[0m\u001b[0;34m(\u001b[0m\u001b[0;34m)\u001b[0m\u001b[0;34m\u001b[0m\u001b[0;34m\u001b[0m\u001b[0m\n\u001b[1;32m      8\u001b[0m \u001b[0mmerged_df\u001b[0m\u001b[0;34m.\u001b[0m\u001b[0mto_csv\u001b[0m\u001b[0;34m(\u001b[0m\u001b[0;34m'prmclean.csv'\u001b[0m\u001b[0;34m,\u001b[0m\u001b[0mindex\u001b[0m \u001b[0;34m=\u001b[0m \u001b[0;32mFalse\u001b[0m\u001b[0;34m)\u001b[0m\u001b[0;34m\u001b[0m\u001b[0;34m\u001b[0m\u001b[0m\n\u001b[1;32m      9\u001b[0m \u001b[0mmerged_df\u001b[0m\u001b[0;34m\u001b[0m\u001b[0;34m\u001b[0m\u001b[0m\n",
      "\u001b[0;32m~/anaconda3/lib/python3.11/site-packages/pandas/core/reshape/merge.py\u001b[0m in \u001b[0;36m?\u001b[0;34m(left, right, how, on, left_on, right_on, left_index, right_index, sort, suffixes, copy, indicator, validate)\u001b[0m\n\u001b[1;32m    165\u001b[0m             \u001b[0mvalidate\u001b[0m\u001b[0;34m=\u001b[0m\u001b[0mvalidate\u001b[0m\u001b[0;34m,\u001b[0m\u001b[0;34m\u001b[0m\u001b[0;34m\u001b[0m\u001b[0m\n\u001b[1;32m    166\u001b[0m             \u001b[0mcopy\u001b[0m\u001b[0;34m=\u001b[0m\u001b[0mcopy\u001b[0m\u001b[0;34m,\u001b[0m\u001b[0;34m\u001b[0m\u001b[0;34m\u001b[0m\u001b[0m\n\u001b[1;32m    167\u001b[0m         )\n\u001b[1;32m    168\u001b[0m     \u001b[0;32melse\u001b[0m\u001b[0;34m:\u001b[0m\u001b[0;34m\u001b[0m\u001b[0;34m\u001b[0m\u001b[0m\n\u001b[0;32m--> 169\u001b[0;31m         op = _MergeOperation(\n\u001b[0m\u001b[1;32m    170\u001b[0m             \u001b[0mleft_df\u001b[0m\u001b[0;34m,\u001b[0m\u001b[0;34m\u001b[0m\u001b[0;34m\u001b[0m\u001b[0m\n\u001b[1;32m    171\u001b[0m             \u001b[0mright_df\u001b[0m\u001b[0;34m,\u001b[0m\u001b[0;34m\u001b[0m\u001b[0;34m\u001b[0m\u001b[0m\n\u001b[1;32m    172\u001b[0m             \u001b[0mhow\u001b[0m\u001b[0;34m=\u001b[0m\u001b[0mhow\u001b[0m\u001b[0;34m,\u001b[0m\u001b[0;34m\u001b[0m\u001b[0;34m\u001b[0m\u001b[0m\n",
      "\u001b[0;32m~/anaconda3/lib/python3.11/site-packages/pandas/core/reshape/merge.py\u001b[0m in \u001b[0;36m?\u001b[0;34m(self, left, right, how, on, left_on, right_on, left_index, right_index, sort, suffixes, indicator, validate)\u001b[0m\n\u001b[1;32m    787\u001b[0m             \u001b[0mself\u001b[0m\u001b[0;34m.\u001b[0m\u001b[0mright_join_keys\u001b[0m\u001b[0;34m,\u001b[0m\u001b[0;34m\u001b[0m\u001b[0;34m\u001b[0m\u001b[0m\n\u001b[1;32m    788\u001b[0m             \u001b[0mself\u001b[0m\u001b[0;34m.\u001b[0m\u001b[0mjoin_names\u001b[0m\u001b[0;34m,\u001b[0m\u001b[0;34m\u001b[0m\u001b[0;34m\u001b[0m\u001b[0m\n\u001b[1;32m    789\u001b[0m             \u001b[0mleft_drop\u001b[0m\u001b[0;34m,\u001b[0m\u001b[0;34m\u001b[0m\u001b[0;34m\u001b[0m\u001b[0m\n\u001b[1;32m    790\u001b[0m             \u001b[0mright_drop\u001b[0m\u001b[0;34m,\u001b[0m\u001b[0;34m\u001b[0m\u001b[0;34m\u001b[0m\u001b[0m\n\u001b[0;32m--> 791\u001b[0;31m         ) = self._get_merge_keys()\n\u001b[0m\u001b[1;32m    792\u001b[0m \u001b[0;34m\u001b[0m\u001b[0m\n\u001b[1;32m    793\u001b[0m         \u001b[0;32mif\u001b[0m \u001b[0mleft_drop\u001b[0m\u001b[0;34m:\u001b[0m\u001b[0;34m\u001b[0m\u001b[0;34m\u001b[0m\u001b[0m\n\u001b[1;32m    794\u001b[0m             \u001b[0mself\u001b[0m\u001b[0;34m.\u001b[0m\u001b[0mleft\u001b[0m \u001b[0;34m=\u001b[0m \u001b[0mself\u001b[0m\u001b[0;34m.\u001b[0m\u001b[0mleft\u001b[0m\u001b[0;34m.\u001b[0m\u001b[0m_drop_labels_or_levels\u001b[0m\u001b[0;34m(\u001b[0m\u001b[0mleft_drop\u001b[0m\u001b[0;34m)\u001b[0m\u001b[0;34m\u001b[0m\u001b[0;34m\u001b[0m\u001b[0m\n",
      "\u001b[0;32m~/anaconda3/lib/python3.11/site-packages/pandas/core/reshape/merge.py\u001b[0m in \u001b[0;36m?\u001b[0;34m(self)\u001b[0m\n\u001b[1;32m   1283\u001b[0m                     \u001b[0;32mif\u001b[0m \u001b[0mlk\u001b[0m \u001b[0;32mis\u001b[0m \u001b[0;32mnot\u001b[0m \u001b[0;32mNone\u001b[0m\u001b[0;34m:\u001b[0m\u001b[0;34m\u001b[0m\u001b[0;34m\u001b[0m\u001b[0m\n\u001b[1;32m   1284\u001b[0m                         \u001b[0;31m# Then we're either Hashable or a wrong-length arraylike,\u001b[0m\u001b[0;34m\u001b[0m\u001b[0;34m\u001b[0m\u001b[0m\n\u001b[1;32m   1285\u001b[0m                         \u001b[0;31m#  the latter of which will raise\u001b[0m\u001b[0;34m\u001b[0m\u001b[0;34m\u001b[0m\u001b[0m\n\u001b[1;32m   1286\u001b[0m                         \u001b[0mlk\u001b[0m \u001b[0;34m=\u001b[0m \u001b[0mcast\u001b[0m\u001b[0;34m(\u001b[0m\u001b[0mHashable\u001b[0m\u001b[0;34m,\u001b[0m \u001b[0mlk\u001b[0m\u001b[0;34m)\u001b[0m\u001b[0;34m\u001b[0m\u001b[0;34m\u001b[0m\u001b[0m\n\u001b[0;32m-> 1287\u001b[0;31m                         \u001b[0mleft_keys\u001b[0m\u001b[0;34m.\u001b[0m\u001b[0mappend\u001b[0m\u001b[0;34m(\u001b[0m\u001b[0mleft\u001b[0m\u001b[0;34m.\u001b[0m\u001b[0m_get_label_or_level_values\u001b[0m\u001b[0;34m(\u001b[0m\u001b[0mlk\u001b[0m\u001b[0;34m)\u001b[0m\u001b[0;34m)\u001b[0m\u001b[0;34m\u001b[0m\u001b[0;34m\u001b[0m\u001b[0m\n\u001b[0m\u001b[1;32m   1288\u001b[0m                         \u001b[0mjoin_names\u001b[0m\u001b[0;34m.\u001b[0m\u001b[0mappend\u001b[0m\u001b[0;34m(\u001b[0m\u001b[0mlk\u001b[0m\u001b[0;34m)\u001b[0m\u001b[0;34m\u001b[0m\u001b[0;34m\u001b[0m\u001b[0m\n\u001b[1;32m   1289\u001b[0m                     \u001b[0;32melse\u001b[0m\u001b[0;34m:\u001b[0m\u001b[0;34m\u001b[0m\u001b[0;34m\u001b[0m\u001b[0m\n\u001b[1;32m   1290\u001b[0m                         \u001b[0;31m# work-around for merge_asof(left_index=True)\u001b[0m\u001b[0;34m\u001b[0m\u001b[0;34m\u001b[0m\u001b[0m\n",
      "\u001b[0;32m~/anaconda3/lib/python3.11/site-packages/pandas/core/generic.py\u001b[0m in \u001b[0;36m?\u001b[0;34m(self, key, axis)\u001b[0m\n\u001b[1;32m   1840\u001b[0m             \u001b[0mvalues\u001b[0m \u001b[0;34m=\u001b[0m \u001b[0mself\u001b[0m\u001b[0;34m.\u001b[0m\u001b[0mxs\u001b[0m\u001b[0;34m(\u001b[0m\u001b[0mkey\u001b[0m\u001b[0;34m,\u001b[0m \u001b[0maxis\u001b[0m\u001b[0;34m=\u001b[0m\u001b[0mother_axes\u001b[0m\u001b[0;34m[\u001b[0m\u001b[0;36m0\u001b[0m\u001b[0;34m]\u001b[0m\u001b[0;34m)\u001b[0m\u001b[0;34m.\u001b[0m\u001b[0m_values\u001b[0m\u001b[0;34m\u001b[0m\u001b[0;34m\u001b[0m\u001b[0m\n\u001b[1;32m   1841\u001b[0m         \u001b[0;32melif\u001b[0m \u001b[0mself\u001b[0m\u001b[0;34m.\u001b[0m\u001b[0m_is_level_reference\u001b[0m\u001b[0;34m(\u001b[0m\u001b[0mkey\u001b[0m\u001b[0;34m,\u001b[0m \u001b[0maxis\u001b[0m\u001b[0;34m=\u001b[0m\u001b[0maxis\u001b[0m\u001b[0;34m)\u001b[0m\u001b[0;34m:\u001b[0m\u001b[0;34m\u001b[0m\u001b[0;34m\u001b[0m\u001b[0m\n\u001b[1;32m   1842\u001b[0m             \u001b[0mvalues\u001b[0m \u001b[0;34m=\u001b[0m \u001b[0mself\u001b[0m\u001b[0;34m.\u001b[0m\u001b[0maxes\u001b[0m\u001b[0;34m[\u001b[0m\u001b[0maxis\u001b[0m\u001b[0;34m]\u001b[0m\u001b[0;34m.\u001b[0m\u001b[0mget_level_values\u001b[0m\u001b[0;34m(\u001b[0m\u001b[0mkey\u001b[0m\u001b[0;34m)\u001b[0m\u001b[0;34m.\u001b[0m\u001b[0m_values\u001b[0m\u001b[0;34m\u001b[0m\u001b[0;34m\u001b[0m\u001b[0m\n\u001b[1;32m   1843\u001b[0m         \u001b[0;32melse\u001b[0m\u001b[0;34m:\u001b[0m\u001b[0;34m\u001b[0m\u001b[0;34m\u001b[0m\u001b[0m\n\u001b[0;32m-> 1844\u001b[0;31m             \u001b[0;32mraise\u001b[0m \u001b[0mKeyError\u001b[0m\u001b[0;34m(\u001b[0m\u001b[0mkey\u001b[0m\u001b[0;34m)\u001b[0m\u001b[0;34m\u001b[0m\u001b[0;34m\u001b[0m\u001b[0m\n\u001b[0m\u001b[1;32m   1845\u001b[0m \u001b[0;34m\u001b[0m\u001b[0m\n\u001b[1;32m   1846\u001b[0m         \u001b[0;31m# Check for duplicates\u001b[0m\u001b[0;34m\u001b[0m\u001b[0;34m\u001b[0m\u001b[0m\n\u001b[1;32m   1847\u001b[0m         \u001b[0;32mif\u001b[0m \u001b[0mvalues\u001b[0m\u001b[0;34m.\u001b[0m\u001b[0mndim\u001b[0m \u001b[0;34m>\u001b[0m \u001b[0;36m1\u001b[0m\u001b[0;34m:\u001b[0m\u001b[0;34m\u001b[0m\u001b[0;34m\u001b[0m\u001b[0m\n",
      "\u001b[0;31mKeyError\u001b[0m: 'problem'"
     ]
    }
   ],
   "source": [
    "train_df = pd.read_csv('ALLtraincompiled.csv')[['Question','Type']]\n",
    "test_df = pd.read_csv('ALLtestcompiled.csv')[['Question','Type']]\n",
    "dftotal = pd.concat([train_df, test_df], axis=0)\n",
    "\n",
    "dftotal.rename(columns={'Question': 'problem'}, inplace=True)\n",
    "merged_df = pd.merge(df, dftotal, on='problem', how='outer')\n",
    "merged_df=merged_df.dropna()\n",
    "merged_df.to_csv('prmclean.csv',index = False)\n",
    "merged_df"
   ]
  },
  {
   "cell_type": "code",
   "execution_count": 28,
   "id": "ca58d858-4efc-4b91-b139-26c4b40fd55f",
   "metadata": {},
   "outputs": [
    {
     "data": {
      "text/plain": [
       "'7.8 minutes is the same as 7 minutes and 0.8 minutes. Right, and since there are 60 seconds in a minute, then there are 60 * 7 = 420 seconds in 7 minutes. And since there are 60 seconds in a minute, then there are 60 * 0.8 = 48 seconds in 0.8 minutes. So, in total, there are 420 + 48 = 468 seconds in 7.8 minutes. Exactly.\\n\\n# Answer\\n\\n468'"
      ]
     },
     "execution_count": 28,
     "metadata": {},
     "output_type": "execute_result"
    }
   ],
   "source": [
    "merged_df['steps'][0]"
   ]
  },
  {
   "cell_type": "code",
   "execution_count": 29,
   "id": "a93974a4-61d8-44fc-a8dd-2647962bebd0",
   "metadata": {},
   "outputs": [
    {
     "data": {
      "text/plain": [
       "'I need to convert minutes to seconds, and I know that one minute has 60 seconds. So I can multiply the number of minutes by 60 to get the number of seconds. That means 7.8 minutes times 60 seconds per minute equals 468 seconds. I can check my answer by dividing 468 by 60 and seeing that I get 7.8, which is the original number of minutes. # Answer\\n\\n468'"
      ]
     },
     "execution_count": 29,
     "metadata": {},
     "output_type": "execute_result"
    }
   ],
   "source": [
    "merged_df['steps'][1]"
   ]
  },
  {
   "cell_type": "code",
   "execution_count": 3,
   "id": "5f809bda-2a2c-4669-b382-29f462c19a3b",
   "metadata": {},
   "outputs": [
    {
     "data": {
      "text/plain": [
       "Type                    \n",
       "algebra                     3038\n",
       "prealgebra                  2024\n",
       "intermediate_algebra        1769\n",
       "precalculus                 1287\n",
       "number_theory               1243\n",
       "counting_and_probability    1025\n",
       "geometry                     805\n",
       "Name: count, dtype: int64"
      ]
     },
     "execution_count": 3,
     "metadata": {},
     "output_type": "execute_result"
    }
   ],
   "source": [
    "import pandas as pd\n",
    "df = pd.read_csv('prmclean.csv')[['Type']]\n",
    "df.value_counts()"
   ]
  }
 ],
 "metadata": {
  "kernelspec": {
   "display_name": "Python 3 (ipykernel)",
   "language": "python",
   "name": "python3"
  },
  "language_info": {
   "codemirror_mode": {
    "name": "ipython",
    "version": 3
   },
   "file_extension": ".py",
   "mimetype": "text/x-python",
   "name": "python",
   "nbconvert_exporter": "python",
   "pygments_lexer": "ipython3",
   "version": "3.11.7"
  }
 },
 "nbformat": 4,
 "nbformat_minor": 5
}
