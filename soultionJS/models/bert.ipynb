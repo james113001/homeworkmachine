{
 "cells": [
  {
   "cell_type": "code",
   "execution_count": 6,
   "metadata": {},
   "outputs": [],
   "source": [
    "import torch\n",
    "\n",
    "BERT_CONFIGURATION={\n",
    "    \"model\" : \"../inputs/bert-finetuned-math-prob-classification\",\n",
    "    \"device\"  'cuda' if torch.cuda.is_available() else 'cpu'\n",
    "    \"api_key\": \"EMPTY\", \n",
    "    \"max_tokens\":1000,\n",
    "    # \"base_url\":f\"http://localhost:11434/v1\"\n",
    "    }"
   ]
  },
  {
   "cell_type": "code",
   "execution_count": 7,
   "metadata": {},
   "outputs": [],
   "source": [
    "# custom client with custom model loader\n",
    "from transformers import AutoModelForCausalLM, AutoTokenizer, GenerationConfig, AutoModelForSequenceClassification\n",
    "import random\n",
    "\n",
    "class BertModelClient:\n",
    "    def __init__(self, config, **kwargs):\n",
    "        print(f\"CustomModelClient config: {config}\")\n",
    "        self.device = config.get(\"device\", \"cpu\")\n",
    "        self.model = AutoModelForCausalLM.from_pretrained(config[\"model\"]).to(self.device)\n",
    "        self.model_name = config[\"model\"]\n",
    "        self.tokenizer = AutoTokenizer.from_pretrained(config[\"model\"], use_fast=False)\n",
    "        self.tokenizer.pad_token_id = self.tokenizer.eos_token_id\n",
    "        self.label_mapping = {\n",
    "            0: \"Algebra\",\n",
    "            1: \"Counting & Probability\",\n",
    "            2: \"Geometry\",\n",
    "            3: \"Intermediate Algebra\",\n",
    "            4: \"Number Theory\",\n",
    "            5: \"Prealgebra\",\n",
    "            6: \"Precalculus\"\n",
    "        }\n",
    "\n",
    "        # params are set by the user and consumed by the user since they are providing a custom model\n",
    "        # so anything can be done here\n",
    "        gen_config_params = config.get(\"params\", {})\n",
    "        self.max_length = gen_config_params.get(\"max_length\", 256)\n",
    "\n",
    "        print(f\"Loaded model {config['model']} to {self.device}\")\n",
    "\n",
    "    def create(self, params):\n",
    "        if params.get(\"stream\", False) and \"messages\" in params:\n",
    "            raise NotImplementedError(\"Local models do not support streaming.\")\n",
    "        else:\n",
    "            num_of_responses = params.get(\"n\", 1)\n",
    "\n",
    "            # can create my own data response class\n",
    "            # here using SimpleNamespace for simplicity\n",
    "            # as long as it adheres to the ClientResponseProtocol\n",
    "\n",
    "            response = SimpleNamespace()\n",
    "            \n",
    "    #         # Tokenize the input text\n",
    "    # inputs = tokenizer(text, return_tensors=\"pt\", truncation=True, padding=True, max_length=512)\n",
    "    \n",
    "    # # Move inputs to GPU if available\n",
    "    # inputs = {key: val.to(device) for key, val in inputs.items()}\n",
    "    \n",
    "    # # Make prediction\n",
    "    # with torch.no_grad():\n",
    "    #     outputs = model(**inputs)\n",
    "    \n",
    "    # # Get the predicted class\n",
    "    # predictions = torch.nn.functional.softmax(outputs.logits, dim=-1)\n",
    "    # predicted_class = torch.argmax(predictions, dim=-1).item()\n",
    "\n",
    "    # predicted_label = label_mapping[predicted_class]\n",
    "    \n",
    "\n",
    "            inputs = self.tokenizer.apply_chat_template(\n",
    "                params[\"messages\"], return_tensors=\"pt\", add_generation_prompt=True\n",
    "            ).to(self.device)\n",
    "            inputs_length = inputs.shape[-1]\n",
    "\n",
    "            # add inputs_length to max_length\n",
    "            max_length = self.max_length + inputs_length\n",
    "            generation_config = GenerationConfig(\n",
    "                max_length=max_length,\n",
    "                eos_token_id=self.tokenizer.eos_token_id,\n",
    "                pad_token_id=self.tokenizer.eos_token_id,\n",
    "            )\n",
    "\n",
    "            response.choices = []\n",
    "            response.model = self.model_name\n",
    "\n",
    "            for _ in range(num_of_responses):\n",
    "                outputs = self.model.generate(inputs, generation_config=generation_config)\n",
    "                # Decode only the newly generated text, excluding the prompt\n",
    "                text = self.tokenizer.decode(outputs[0, inputs_length:])\n",
    "                choice = SimpleNamespace()\n",
    "                choice.message = SimpleNamespace()\n",
    "                choice.message.content = text\n",
    "                choice.message.function_call = None\n",
    "                response.choices.append(choice)\n",
    "\n",
    "            return response\n",
    "\n",
    "    def message_retrieval(self, response):\n",
    "        \"\"\"Retrieve the messages from the response.\"\"\"\n",
    "        choices = response.choices\n",
    "        return [choice.message.content for choice in choices]\n",
    "\n",
    "    def cost(self, response) -> float:\n",
    "        \"\"\"Calculate the cost of the response.\"\"\"\n",
    "        response.cost = 0\n",
    "        return 0\n",
    "    \n",
    "    def predictMathType(self, text):\n",
    "        try:\n",
    "            inputs = self.tokenizer(text, return_tensors=\"pt\", truncation=True, padding=True, max_length=512)\n",
    "            inputs = {key: val.to(self.device) for key, val in inputs.items()}\n",
    "\n",
    "            with torch.no_grad():\n",
    "                outputs = self.model(**inputs)\n",
    "\n",
    "            predictions = torch.nn.functional.softmax(outputs.logits, dim=-1)\n",
    "            predicted_class = torch.argmax(predictions, dim=-1).item()\n",
    "            return self.label_mapping[predicted_class]\n",
    "        except Exception as e:\n",
    "            predicted_class = random.randint(0,6)\n",
    "            return self.label_mapping[predicted_class]\n",
    "\n",
    "    @staticmethod\n",
    "    def get_usage(response):\n",
    "        # returns a dict of prompt_tokens, completion_tokens, total_tokens, cost, model\n",
    "        # if usage needs to be tracked, else None\n",
    "        return {}"
   ]
  },
  {
   "cell_type": "code",
   "execution_count": 8,
   "metadata": {},
   "outputs": [
    {
     "name": "stdout",
     "output_type": "stream",
     "text": [
      "CustomModelClient config: {'model': '../inputs/bert-finetuned-math-prob-classification', 'cpuapi_key': 'EMPTY', 'max_tokens': 1000}\n"
     ]
    },
    {
     "name": "stderr",
     "output_type": "stream",
     "text": [
      "If you want to use `BertLMHeadModel` as a standalone, add `is_decoder=True.`\n",
      "Some weights of BertLMHeadModel were not initialized from the model checkpoint at ../inputs/bert-finetuned-math-prob-classification and are newly initialized: ['cls.predictions.bias', 'cls.predictions.decoder.bias', 'cls.predictions.transform.LayerNorm.bias', 'cls.predictions.transform.LayerNorm.weight', 'cls.predictions.transform.dense.bias', 'cls.predictions.transform.dense.weight']\n",
      "You should probably TRAIN this model on a down-stream task to be able to use it for predictions and inference.\n"
     ]
    },
    {
     "name": "stdout",
     "output_type": "stream",
     "text": [
      "Loaded model ../inputs/bert-finetuned-math-prob-classification to cpu\n"
     ]
    }
   ],
   "source": [
    "bert = BertModelClient(BERT_CONFIGURATION)"
   ]
  },
  {
   "cell_type": "code",
   "execution_count": 11,
   "metadata": {},
   "outputs": [
    {
     "data": {
      "text/plain": [
       "'Counting & Probability'"
      ]
     },
     "execution_count": 11,
     "metadata": {},
     "output_type": "execute_result"
    }
   ],
   "source": [
    "# bert.predictMathType(\"What is 5 + 5\")\n",
    "bert.predictMathType(\"What is the sum of all the prime numbers between 0 and 100?\")\n"
   ]
  }
 ],
 "metadata": {
  "kernelspec": {
   "display_name": "Python 3",
   "language": "python",
   "name": "python3"
  },
  "language_info": {
   "codemirror_mode": {
    "name": "ipython",
    "version": 3
   },
   "file_extension": ".py",
   "mimetype": "text/x-python",
   "name": "python",
   "nbconvert_exporter": "python",
   "pygments_lexer": "ipython3",
   "version": "3.11.9"
  }
 },
 "nbformat": 4,
 "nbformat_minor": 2
}
