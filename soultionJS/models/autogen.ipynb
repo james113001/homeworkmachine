{
 "cells": [
  {
   "cell_type": "code",
   "execution_count": 2,
   "metadata": {},
   "outputs": [],
   "source": [
    "!pip install --upgrade --quiet openai pyautogen"
   ]
  },
  {
   "cell_type": "code",
   "execution_count": 3,
   "metadata": {},
   "outputs": [
    {
     "data": {
      "text/plain": [
       "{'model': 'gemma:2b',\n",
       " 'api_key': 'EMPTY',\n",
       " 'max_tokens': 1000,\n",
       " 'base_url': 'http://localhost:11434/v1'}"
      ]
     },
     "execution_count": 3,
     "metadata": {},
     "output_type": "execute_result"
    }
   ],
   "source": [
    "import autogen\n",
    "\n",
    "config_list =[\n",
    "    {   \n",
    "        \"model\" : \"gemma:2b\", \n",
    "        \"api_key\": \"EMPTY\", \n",
    "        \"max_tokens\":1000,\n",
    "        \"base_url\":f\"http://localhost:11434/v1\"},\n",
    "    {\n",
    "        \"model\": \"gpt-4\",\n",
    "        \"api_key\": \"<your Azure OpenAI API key here>\",\n",
    "        \"base_url\": \"<your Azure OpenAI API base here>\",\n",
    "        \"api_type\": \"azure\",\n",
    "        \"api_version\": \"2024-02-15-preview\"\n",
    "    },\n",
    "    {\n",
    "        \"model\": \"gpt-4-32k\",\n",
    "        \"api_key\": \"<your Azure OpenAI API key here>\",\n",
    "        \"base_url\": \"<your Azure OpenAI API base here>\",\n",
    "        \"api_type\": \"azure\",\n",
    "        \"api_version\": \"2024-02-15-preview\"\n",
    "    }\n",
    "]\n",
    "\n",
    "gemmaConfig = config_list[0]\n",
    "gemmaConfig"
   ]
  },
  {
   "cell_type": "code",
   "execution_count": null,
   "metadata": {},
   "outputs": [],
   "source": [
    "user_proxy = autogen.UserProxyAgent(\n",
    "    name=\"User_proxy\",\n",
    "    system_message=\"A human admin.\",\n",
    "    code_execution_config=False,\n",
    "    human_input_mode=\"TERMINATE\",\n",
    "    is_termination_msg=lambda x: x.get(\"content\", \"\") and x.get(\"content\", \"\").rstrip().endswith(\"TERMINATE\"),\n",
    ")\n",
    "procedure = autogen.AssistantAgent(\n",
    "    name=\"Procedure\",\n",
    "    system_message=\"\"\"You an advanced AI acting as the an mathematics procedural assistant;\n",
    "    you will take a given math problem written in LaTex format, create a high fidelity summary of what the problem is asking you to achieve;\n",
    "    then break the task down into a list of individual steps that must be completed to solve the task.\n",
    "                    \"\"\",\n",
    "    llm_config=llm_config,\n",
    "    description=\"\"\"This is a math problem procedure assistant who is capable of taking a problem in LaTex format; summarizing the question; and creating a procedure for solving it.\n",
    "                   The procedure assistant is open to any comments and recommendations for improving the summary and procedure.\n",
    "                   Ask the procedure assistant to iterate every time when there is a new change recommendation from editor.\n",
    "                \"\"\"\n",
    ")\n",
    "editor = autogen.AssistantAgent(\n",
    "    name=\"Editor\",\n",
    "    system_message=\"\"\"You review the math questions and procedure proposals and give change recommendations to make the procedure and summary more aligned with the original question being asked,\n",
    "    for example, revising to make sure the correct solution format is being protrayed.\n",
    "                      You never write or revise procedures by yourself.\n",
    "                       \"\"\",\n",
    "    llm_config=llm_config,\n",
    "    description=\"\"\"This is an editor who reviews the procedure drafts of mathematics procedural assistants and provides change ideas.\n",
    "                    The editor should be called every time the mathematics procedural assistant provides a version of a math procedure post.\n",
    "                \"\"\"\n",
    ")\n",
    "solver = autogen.AssistantAgent(\n",
    "    name=\"Solver\",\n",
    "    system_message=\"\"\" You are an advanced mathematician;\n",
    "    You will take a given math problem summary and a procedure for solving it;\n",
    "    and you will follow the procedure to solve the math problem correctly.\n",
    "                       \"\"\",\n",
    "    llm_config=llm_config,\n",
    "    description=\"\"\"This is an elite math problem solver who reviews math procedures of procedure writing assistants and provides the solution to the problem.\n",
    "                    The solver should be called every time the procedure assistant provides a version of procedure summary and steps.\n",
    "                \"\"\"\n",
    ")\n"
   ]
  },
  {
   "cell_type": "code",
   "execution_count": null,
   "metadata": {},
   "outputs": [],
   "source": [
    "groupchat = autogen.GroupChat(agents=[user_proxy, procedure, editor, solver], messages=[], max_round=6)\n",
    "manager = autogen.GroupChatManager(groupchat=groupchat, llm_config=llm_config)"
   ]
  }
 ],
 "metadata": {
  "kernelspec": {
   "display_name": "autogen",
   "language": "python",
   "name": "python3"
  },
  "language_info": {
   "codemirror_mode": {
    "name": "ipython",
    "version": 3
   },
   "file_extension": ".py",
   "mimetype": "text/x-python",
   "name": "python",
   "nbconvert_exporter": "python",
   "pygments_lexer": "ipython3",
   "version": "3.11.9"
  }
 },
 "nbformat": 4,
 "nbformat_minor": 2
}
